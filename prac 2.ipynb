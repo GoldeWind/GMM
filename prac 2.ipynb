{
 "cells": [
  {
   "cell_type": "markdown",
   "id": "1733a263",
   "metadata": {},
   "source": [
    "Implementation of Generalized Method of Moments (GMM)"
   ]
  },
  {
   "cell_type": "code",
   "execution_count": 1,
   "id": "7dab763b",
   "metadata": {},
   "outputs": [],
   "source": [
    "import numpy as np\n",
    "from scipy.optimize import minimize"
   ]
  },
  {
   "cell_type": "code",
   "execution_count": 2,
   "id": "332d7270",
   "metadata": {},
   "outputs": [],
   "source": [
    "np.random.seed(42)\n",
    "n = 100\n",
    "x = np.random.rand(n)\n",
    "epsilon = np.random.normal(0,1,n)\n",
    "beta_true = [2.5,1.7]\n",
    "y = beta_true[0] + beta_true[1] * x + epsilon"
   ]
  },
  {
   "cell_type": "code",
   "execution_count": 3,
   "id": "59dd62d5",
   "metadata": {},
   "outputs": [],
   "source": [
    "def moment_conditions(params,x,y):\n",
    "    beta0, beta1 = params\n",
    "    return y - beta0 - beta1 * x\n",
    "\n",
    "def gmm_objective(params,x,y):\n",
    "    moments = moment_conditions(params, x,y)\n",
    "    return moments.T @ moments\n",
    "\n",
    "initial_guess = [0.5,0.5]\n",
    "\n",
    "result = minimize(gmm_objective, initial_guess, args=(x,y))\n",
    "\n",
    "estimated_beta0, estimated_beta1 = result.x"
   ]
  },
  {
   "cell_type": "code",
   "execution_count": 4,
   "id": "11859525",
   "metadata": {},
   "outputs": [
    {
     "name": "stdout",
     "output_type": "stream",
     "text": [
      "Estimated beta0:  2.71509612893309\n",
      "Estimated beta1:  1.2402268182019354\n"
     ]
    }
   ],
   "source": [
    "print(\"Estimated beta0: \",estimated_beta0)\n",
    "print(\"Estimated beta1: \",estimated_beta1)"
   ]
  },
  {
   "cell_type": "code",
   "execution_count": null,
   "id": "998769cb",
   "metadata": {},
   "outputs": [],
   "source": []
  },
  {
   "cell_type": "code",
   "execution_count": null,
   "id": "4cba0b0d",
   "metadata": {},
   "outputs": [],
   "source": []
  }
 ],
 "metadata": {
  "kernelspec": {
   "display_name": "Python 3",
   "language": "python",
   "name": "python3"
  },
  "language_info": {
   "codemirror_mode": {
    "name": "ipython",
    "version": 3
   },
   "file_extension": ".py",
   "mimetype": "text/x-python",
   "name": "python",
   "nbconvert_exporter": "python",
   "pygments_lexer": "ipython3",
   "version": "3.8.8"
  }
 },
 "nbformat": 4,
 "nbformat_minor": 5
}
